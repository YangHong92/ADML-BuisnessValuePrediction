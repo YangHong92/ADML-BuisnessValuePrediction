{
 "cells": [
  {
   "cell_type": "code",
   "execution_count": 1,
   "metadata": {
    "ExecuteTime": {
     "end_time": "2019-04-30T16:29:55.496906Z",
     "start_time": "2019-04-30T16:29:54.361433Z"
    },
    "colab": {},
    "colab_type": "code",
    "id": "PGyjl_46-nkX"
   },
   "outputs": [],
   "source": [
    "import numpy as np # linear algebra\n",
    "import pandas as pd # data processing, CSV file I/O\n",
    "import matplotlib.pyplot as plt\n",
    "from sklearn.model_selection import train_test_split\n",
    "%matplotlib inline"
   ]
  },
  {
   "cell_type": "code",
   "execution_count": 3,
   "metadata": {
    "colab": {
     "base_uri": "https://localhost:8080/",
     "height": 122
    },
    "colab_type": "code",
    "id": "YQO4H7-ZjeQ7",
    "outputId": "1b223fdf-3b39-49a4-c08f-2c2ae64bd71a"
   },
   "outputs": [
    {
     "name": "stdout",
     "output_type": "stream",
     "text": [
      "Go to this URL in a browser: https://accounts.google.com/o/oauth2/auth?client_id=947318989803-6bn6qk8qdgf4n4g3pfee6491hc0brc4i.apps.googleusercontent.com&redirect_uri=urn%3Aietf%3Awg%3Aoauth%3A2.0%3Aoob&scope=email%20https%3A%2F%2Fwww.googleapis.com%2Fauth%2Fdocs.test%20https%3A%2F%2Fwww.googleapis.com%2Fauth%2Fdrive%20https%3A%2F%2Fwww.googleapis.com%2Fauth%2Fdrive.photos.readonly%20https%3A%2F%2Fwww.googleapis.com%2Fauth%2Fpeopleapi.readonly&response_type=code\n",
      "\n",
      "Enter your authorization code:\n",
      "··········\n",
      "Mounted at /content/gdrive\n"
     ]
    }
   ],
   "source": [
    "# load data from google drive\n",
    "# should be executed every time you have to load the file in google drive\n",
    "\n",
    "from google.colab import drive\n",
    "drive.mount('/content/gdrive', force_remount=True) # your google drive will be mounted as '/content/gdrive/My Drive/*'\n"
   ]
  },
  {
   "cell_type": "code",
   "execution_count": 2,
   "metadata": {
    "ExecuteTime": {
     "end_time": "2019-04-30T16:31:11.533832Z",
     "start_time": "2019-04-30T16:30:57.484833Z"
    },
    "colab": {},
    "colab_type": "code",
    "id": "qRu-dA0t-nkb"
   },
   "outputs": [],
   "source": [
    "# load train, test, people from google drive\n",
    "train = pd.read_csv('../data/act_train.csv', parse_dates=['date'])\n",
    "# train = pd.read_csv('/content/gdrive/My Drive/colab/redhat/dataset/act_train.csv', parse_dates=['date'])\n",
    "# test = pd.read_csv('/content/gdrive/My Drive/colab/redhat/dataset/act_test.csv', parse_dates=['date'])\n",
    "people = pd.read_csv('../data/people.csv', parse_dates=['date'])\n",
    "# people = pd.read_csv('/content/gdrive/My Drive/colab/redhat/dataset/people.csv', parse_dates=['date'])\n",
    "\n",
    "# train = pd.read_csv('../data/act_train.csv', parse_dates=['date'])\n",
    "# test = pd.read_csv('../data/act_test.csv', parse_dates=['date'])\n",
    "# people = pd.read_csv('../data/people.csv', parse_dates=['date'])\n",
    "\n",
    "sel_col = [2, *np.arange(4,14)]\n",
    "a = train.columns[sel_col]\n",
    "b = ['act_' + train.columns[i] for i in sel_col]\n",
    "mapping = dict(zip(a, b))\n",
    "\n",
    "sel_col_ppl = np.arange(1,41)\n",
    "a_ppl = people.columns[sel_col_ppl]\n",
    "b_ppl = ['ppl_' + people.columns[i] for i in sel_col_ppl]\n",
    "mapping_ppl = dict(zip(a_ppl, b_ppl))\n",
    "\n",
    "train = train.rename(columns=mapping)\n",
    "# test = test.rename(columns=mapping)\n",
    "people = people.rename(columns=mapping_ppl)\n",
    "\n",
    "\n",
    "df_train = pd.merge(train, people, on='people_id')\n",
    "# df_test = pd.merge(test, people, on='people_id')\n",
    "\n",
    "\n",
    "# del train, test, people\n",
    "del train, people"
   ]
  },
  {
   "cell_type": "code",
   "execution_count": 3,
   "metadata": {
    "ExecuteTime": {
     "end_time": "2019-04-30T16:31:16.445652Z",
     "start_time": "2019-04-30T16:31:16.405492Z"
    },
    "colab": {
     "base_uri": "https://localhost:8080/",
     "height": 338
    },
    "colab_type": "code",
    "id": "4MtlU7lm-nkd",
    "outputId": "d7f33b56-4de1-4715-ae20-402285709194"
   },
   "outputs": [
    {
     "data": {
      "text/html": [
       "<div>\n",
       "<style scoped>\n",
       "    .dataframe tbody tr th:only-of-type {\n",
       "        vertical-align: middle;\n",
       "    }\n",
       "\n",
       "    .dataframe tbody tr th {\n",
       "        vertical-align: top;\n",
       "    }\n",
       "\n",
       "    .dataframe thead th {\n",
       "        text-align: right;\n",
       "    }\n",
       "</style>\n",
       "<table border=\"1\" class=\"dataframe\">\n",
       "  <thead>\n",
       "    <tr style=\"text-align: right;\">\n",
       "      <th></th>\n",
       "      <th>people_id</th>\n",
       "      <th>activity_id</th>\n",
       "      <th>act_date</th>\n",
       "      <th>activity_category</th>\n",
       "      <th>act_char_1</th>\n",
       "      <th>act_char_2</th>\n",
       "      <th>act_char_3</th>\n",
       "      <th>act_char_4</th>\n",
       "      <th>act_char_5</th>\n",
       "      <th>act_char_6</th>\n",
       "      <th>...</th>\n",
       "      <th>ppl_char_29</th>\n",
       "      <th>ppl_char_30</th>\n",
       "      <th>ppl_char_31</th>\n",
       "      <th>ppl_char_32</th>\n",
       "      <th>ppl_char_33</th>\n",
       "      <th>ppl_char_34</th>\n",
       "      <th>ppl_char_35</th>\n",
       "      <th>ppl_char_36</th>\n",
       "      <th>ppl_char_37</th>\n",
       "      <th>ppl_char_38</th>\n",
       "    </tr>\n",
       "  </thead>\n",
       "  <tbody>\n",
       "    <tr>\n",
       "      <th>0</th>\n",
       "      <td>ppl_100</td>\n",
       "      <td>act2_1734928</td>\n",
       "      <td>2023-08-26</td>\n",
       "      <td>type 4</td>\n",
       "      <td>NaN</td>\n",
       "      <td>NaN</td>\n",
       "      <td>NaN</td>\n",
       "      <td>NaN</td>\n",
       "      <td>NaN</td>\n",
       "      <td>NaN</td>\n",
       "      <td>...</td>\n",
       "      <td>False</td>\n",
       "      <td>True</td>\n",
       "      <td>True</td>\n",
       "      <td>False</td>\n",
       "      <td>False</td>\n",
       "      <td>True</td>\n",
       "      <td>True</td>\n",
       "      <td>True</td>\n",
       "      <td>False</td>\n",
       "      <td>36</td>\n",
       "    </tr>\n",
       "    <tr>\n",
       "      <th>1</th>\n",
       "      <td>ppl_100</td>\n",
       "      <td>act2_2434093</td>\n",
       "      <td>2022-09-27</td>\n",
       "      <td>type 2</td>\n",
       "      <td>NaN</td>\n",
       "      <td>NaN</td>\n",
       "      <td>NaN</td>\n",
       "      <td>NaN</td>\n",
       "      <td>NaN</td>\n",
       "      <td>NaN</td>\n",
       "      <td>...</td>\n",
       "      <td>False</td>\n",
       "      <td>True</td>\n",
       "      <td>True</td>\n",
       "      <td>False</td>\n",
       "      <td>False</td>\n",
       "      <td>True</td>\n",
       "      <td>True</td>\n",
       "      <td>True</td>\n",
       "      <td>False</td>\n",
       "      <td>36</td>\n",
       "    </tr>\n",
       "    <tr>\n",
       "      <th>2</th>\n",
       "      <td>ppl_100</td>\n",
       "      <td>act2_3404049</td>\n",
       "      <td>2022-09-27</td>\n",
       "      <td>type 2</td>\n",
       "      <td>NaN</td>\n",
       "      <td>NaN</td>\n",
       "      <td>NaN</td>\n",
       "      <td>NaN</td>\n",
       "      <td>NaN</td>\n",
       "      <td>NaN</td>\n",
       "      <td>...</td>\n",
       "      <td>False</td>\n",
       "      <td>True</td>\n",
       "      <td>True</td>\n",
       "      <td>False</td>\n",
       "      <td>False</td>\n",
       "      <td>True</td>\n",
       "      <td>True</td>\n",
       "      <td>True</td>\n",
       "      <td>False</td>\n",
       "      <td>36</td>\n",
       "    </tr>\n",
       "    <tr>\n",
       "      <th>3</th>\n",
       "      <td>ppl_100</td>\n",
       "      <td>act2_3651215</td>\n",
       "      <td>2023-08-04</td>\n",
       "      <td>type 2</td>\n",
       "      <td>NaN</td>\n",
       "      <td>NaN</td>\n",
       "      <td>NaN</td>\n",
       "      <td>NaN</td>\n",
       "      <td>NaN</td>\n",
       "      <td>NaN</td>\n",
       "      <td>...</td>\n",
       "      <td>False</td>\n",
       "      <td>True</td>\n",
       "      <td>True</td>\n",
       "      <td>False</td>\n",
       "      <td>False</td>\n",
       "      <td>True</td>\n",
       "      <td>True</td>\n",
       "      <td>True</td>\n",
       "      <td>False</td>\n",
       "      <td>36</td>\n",
       "    </tr>\n",
       "    <tr>\n",
       "      <th>4</th>\n",
       "      <td>ppl_100</td>\n",
       "      <td>act2_4109017</td>\n",
       "      <td>2023-08-26</td>\n",
       "      <td>type 2</td>\n",
       "      <td>NaN</td>\n",
       "      <td>NaN</td>\n",
       "      <td>NaN</td>\n",
       "      <td>NaN</td>\n",
       "      <td>NaN</td>\n",
       "      <td>NaN</td>\n",
       "      <td>...</td>\n",
       "      <td>False</td>\n",
       "      <td>True</td>\n",
       "      <td>True</td>\n",
       "      <td>False</td>\n",
       "      <td>False</td>\n",
       "      <td>True</td>\n",
       "      <td>True</td>\n",
       "      <td>True</td>\n",
       "      <td>False</td>\n",
       "      <td>36</td>\n",
       "    </tr>\n",
       "  </tbody>\n",
       "</table>\n",
       "<p>5 rows × 55 columns</p>\n",
       "</div>"
      ],
      "text/plain": [
       "  people_id   activity_id   act_date activity_category act_char_1 act_char_2  \\\n",
       "0   ppl_100  act2_1734928 2023-08-26            type 4        NaN        NaN   \n",
       "1   ppl_100  act2_2434093 2022-09-27            type 2        NaN        NaN   \n",
       "2   ppl_100  act2_3404049 2022-09-27            type 2        NaN        NaN   \n",
       "3   ppl_100  act2_3651215 2023-08-04            type 2        NaN        NaN   \n",
       "4   ppl_100  act2_4109017 2023-08-26            type 2        NaN        NaN   \n",
       "\n",
       "  act_char_3 act_char_4 act_char_5 act_char_6     ...     ppl_char_29  \\\n",
       "0        NaN        NaN        NaN        NaN     ...           False   \n",
       "1        NaN        NaN        NaN        NaN     ...           False   \n",
       "2        NaN        NaN        NaN        NaN     ...           False   \n",
       "3        NaN        NaN        NaN        NaN     ...           False   \n",
       "4        NaN        NaN        NaN        NaN     ...           False   \n",
       "\n",
       "  ppl_char_30 ppl_char_31 ppl_char_32  ppl_char_33 ppl_char_34 ppl_char_35  \\\n",
       "0        True        True       False        False        True        True   \n",
       "1        True        True       False        False        True        True   \n",
       "2        True        True       False        False        True        True   \n",
       "3        True        True       False        False        True        True   \n",
       "4        True        True       False        False        True        True   \n",
       "\n",
       "  ppl_char_36 ppl_char_37 ppl_char_38  \n",
       "0        True       False          36  \n",
       "1        True       False          36  \n",
       "2        True       False          36  \n",
       "3        True       False          36  \n",
       "4        True       False          36  \n",
       "\n",
       "[5 rows x 55 columns]"
      ]
     },
     "execution_count": 3,
     "metadata": {},
     "output_type": "execute_result"
    }
   ],
   "source": [
    "df_train.head()"
   ]
  },
  {
   "cell_type": "code",
   "execution_count": 4,
   "metadata": {
    "ExecuteTime": {
     "end_time": "2019-04-30T16:31:19.236646Z",
     "start_time": "2019-04-30T16:31:19.231350Z"
    },
    "colab": {
     "base_uri": "https://localhost:8080/",
     "height": 34
    },
    "colab_type": "code",
    "id": "mI7OKwBHeb0q",
    "outputId": "f9a1bfa5-5d5a-4112-fd21-cd8248ffdc53"
   },
   "outputs": [
    {
     "data": {
      "text/plain": [
       "55"
      ]
     },
     "execution_count": 4,
     "metadata": {},
     "output_type": "execute_result"
    }
   ],
   "source": [
    "len(df_train.columns)"
   ]
  },
  {
   "cell_type": "code",
   "execution_count": 5,
   "metadata": {
    "ExecuteTime": {
     "end_time": "2019-04-30T16:31:21.324622Z",
     "start_time": "2019-04-30T16:31:21.308790Z"
    },
    "colab": {
     "base_uri": "https://localhost:8080/",
     "height": 289
    },
    "colab_type": "code",
    "id": "xjpx0uEW-nkh",
    "outputId": "c5396e82-87ff-46bf-e6f5-786eed2515d3"
   },
   "outputs": [
    {
     "data": {
      "text/plain": [
       "{dtype('<M8[ns]'): Index(['act_date', 'ppl_date'], dtype='object'),\n",
       " dtype('bool'): Index(['ppl_char_10', 'ppl_char_11', 'ppl_char_12', 'ppl_char_13',\n",
       "        'ppl_char_14', 'ppl_char_15', 'ppl_char_16', 'ppl_char_17',\n",
       "        'ppl_char_18', 'ppl_char_19', 'ppl_char_20', 'ppl_char_21',\n",
       "        'ppl_char_22', 'ppl_char_23', 'ppl_char_24', 'ppl_char_25',\n",
       "        'ppl_char_26', 'ppl_char_27', 'ppl_char_28', 'ppl_char_29',\n",
       "        'ppl_char_30', 'ppl_char_31', 'ppl_char_32', 'ppl_char_33',\n",
       "        'ppl_char_34', 'ppl_char_35', 'ppl_char_36', 'ppl_char_37'],\n",
       "       dtype='object'),\n",
       " dtype('int64'): Index(['outcome', 'ppl_char_38'], dtype='object'),\n",
       " dtype('O'): Index(['people_id', 'activity_id', 'activity_category', 'act_char_1',\n",
       "        'act_char_2', 'act_char_3', 'act_char_4', 'act_char_5', 'act_char_6',\n",
       "        'act_char_7', 'act_char_8', 'act_char_9', 'act_char_10', 'ppl_char_1',\n",
       "        'ppl_group_1', 'ppl_char_2', 'ppl_char_3', 'ppl_char_4', 'ppl_char_5',\n",
       "        'ppl_char_6', 'ppl_char_7', 'ppl_char_8', 'ppl_char_9'],\n",
       "       dtype='object')}"
      ]
     },
     "execution_count": 5,
     "metadata": {},
     "output_type": "execute_result"
    }
   ],
   "source": [
    "df_train.columns.to_series().groupby(df_train.dtypes).groups"
   ]
  },
  {
   "cell_type": "code",
   "execution_count": 6,
   "metadata": {
    "ExecuteTime": {
     "end_time": "2019-04-30T16:31:24.806490Z",
     "start_time": "2019-04-30T16:31:24.687577Z"
    },
    "colab": {
     "base_uri": "https://localhost:8080/",
     "height": 153
    },
    "colab_type": "code",
    "id": "BIGQppsL-nkk",
    "outputId": "9067c430-afd6-4926-b0cd-5b68c7da7571"
   },
   "outputs": [
    {
     "name": "stdout",
     "output_type": "stream",
     "text": [
      "Start of act_date: 2022-07-17\n",
      "  End of act_date: 2023-08-31\n",
      "Range of act_date: 410 days 00:00:00\n",
      "\n",
      "Start of ppl_date: 2020-05-18\n",
      "  End of ppl_date: 2023-08-31\n",
      "Range of ppl_date: 1200 days 00:00:00\n",
      "\n"
     ]
    }
   ],
   "source": [
    "for d in ['act_date', 'ppl_date']:\n",
    "    print('Start of ' + d + ': ' + str(df_train[d].min().date()))\n",
    "    print('  End of ' + d + ': ' + str(df_train[d].max().date()))\n",
    "    print('Range of ' + d + ': ' + str(df_train[d].max() - df_train[d].min()) + '\\n')"
   ]
  },
  {
   "cell_type": "code",
   "execution_count": 7,
   "metadata": {
    "ExecuteTime": {
     "end_time": "2019-04-30T16:31:30.250883Z",
     "start_time": "2019-04-30T16:31:26.453994Z"
    },
    "colab": {
     "base_uri": "https://localhost:8080/",
     "height": 659
    },
    "colab_type": "code",
    "id": "S9CsNRsP-nkm",
    "outputId": "19ad9ef2-e0ab-4b8f-ce04-5cecfb5eb57b"
   },
   "outputs": [
    {
     "data": {
      "text/plain": [
       "<matplotlib.axes._subplots.AxesSubplot at 0x1a187df278>"
      ]
     },
     "execution_count": 7,
     "metadata": {},
     "output_type": "execute_result"
    },
    {
     "data": {
      "image/png": "[encoded data removed]",
      "text/plain": [
       "<Figure size 1440x720 with 1 Axes>"
      ]
     },
     "metadata": {
      "needs_background": "light"
     },
     "output_type": "display_data"
    }
   ],
   "source": [
    "date = pd.DataFrame()\n",
    "date['act_date_freq'] = df_train.groupby('act_date')['outcome'].count()\n",
    "date['date_freq'] = df_train.groupby('ppl_date')['outcome'].count()\n",
    "date.plot(figsize=(20, 10))"
   ]
  },
  {
   "cell_type": "code",
   "execution_count": 8,
   "metadata": {
    "ExecuteTime": {
     "end_time": "2019-04-30T16:31:33.288031Z",
     "start_time": "2019-04-30T16:31:33.178069Z"
    },
    "colab": {
     "base_uri": "https://localhost:8080/",
     "height": 85
    },
    "colab_type": "code",
    "id": "v9Ven5Jm-nkp",
    "outputId": "8f78adc2-b90f-4b63-d9c9-1fa88695e3ef"
   },
   "outputs": [
    {
     "name": "stdout",
     "output_type": "stream",
     "text": [
      "Int64Index([407, 407, 407, 407, 407, 407, 233, 233, 753, 753,\n",
      "            ...\n",
      "            963, 963, 963, 963, 963, 963, 963, 963, 963, 963],\n",
      "           dtype='int64', length=2197291)\n"
     ]
    }
   ],
   "source": [
    "max_date = df_train['ppl_date'].max().date() #Datetime\n",
    "min_date = df_train['ppl_date'].min() #pandas.Timestamp\n",
    "val = pd.to_datetime(df_train['ppl_date'].values[0]) #pandas.Timestamp\n",
    "val_ = df_train['ppl_date'].values[0] #numpy.datetime64\n",
    "\n",
    "delta = pd.to_datetime(df_train['ppl_date'].values)-min_date\n",
    "print(delta.days)\n",
    "\n",
    "# print(type(max_date), type(min_date), type(val), type(val_), type(delta))\n",
    "# print(val-min_date, pd.to_timedelta([delta]).astype('timedelta64[h]')[0])"
   ]
  },
  {
   "cell_type": "markdown",
   "metadata": {
    "colab_type": "text",
    "id": "5P7PgzE6-nkr"
   },
   "source": [
    "### Convert Timestamp column to day_difference from min_date"
   ]
  },
  {
   "cell_type": "code",
   "execution_count": 9,
   "metadata": {
    "ExecuteTime": {
     "end_time": "2019-04-30T16:31:43.770843Z",
     "start_time": "2019-04-30T16:31:43.627001Z"
    },
    "colab": {},
    "colab_type": "code",
    "id": "xMYzhcwi-nks"
   },
   "outputs": [],
   "source": [
    "df_train['ppl_date'] = (pd.to_datetime(df_train['ppl_date'].values)-min_date).days\n",
    "df_train['act_date'] = (pd.to_datetime(df_train['act_date'].values)-min_date).days\n",
    "# df_train.head()"
   ]
  },
  {
   "cell_type": "code",
   "execution_count": 10,
   "metadata": {
    "ExecuteTime": {
     "end_time": "2019-04-30T16:32:10.102458Z",
     "start_time": "2019-04-30T16:32:10.070118Z"
    }
   },
   "outputs": [
    {
     "name": "stdout",
     "output_type": "stream",
     "text": [
      "1200 790\n"
     ]
    }
   ],
   "source": [
    "print(df_train['act_date'].max(), df_train['act_date'].min())"
   ]
  },
  {
   "cell_type": "markdown",
   "metadata": {
    "colab_type": "text",
    "id": "8ZQDQTwPQbcw"
   },
   "source": [
    "### Normalization of date data"
   ]
  },
  {
   "cell_type": "code",
   "execution_count": 11,
   "metadata": {
    "ExecuteTime": {
     "end_time": "2019-04-30T16:32:25.073541Z",
     "start_time": "2019-04-30T16:32:24.907486Z"
    },
    "colab": {},
    "colab_type": "code",
    "id": "39aRvWOhQmAL"
   },
   "outputs": [],
   "source": [
    "df_train['ppl_date']=(df_train['ppl_date']-df_train['ppl_date'].min())/(df_train['ppl_date'].max()-df_train['ppl_date'].min())\n",
    "df_train['act_date']=(df_train['act_date']-df_train['act_date'].min())/(df_train['act_date'].max()-df_train['act_date'].min())"
   ]
  },
  {
   "cell_type": "markdown",
   "metadata": {
    "colab_type": "text",
    "id": "7Y7CNIT_8fqW"
   },
   "source": [
    "### Normalization of 'ppl_char_38'"
   ]
  },
  {
   "cell_type": "code",
   "execution_count": 12,
   "metadata": {
    "ExecuteTime": {
     "end_time": "2019-04-30T16:32:56.917107Z",
     "start_time": "2019-04-30T16:32:56.881611Z"
    }
   },
   "outputs": [
    {
     "name": "stdout",
     "output_type": "stream",
     "text": [
      "100 0\n"
     ]
    }
   ],
   "source": [
    "print(df_train['ppl_char_38'].max(), df_train['ppl_char_38'].min())"
   ]
  },
  {
   "cell_type": "code",
   "execution_count": 13,
   "metadata": {
    "ExecuteTime": {
     "end_time": "2019-04-30T16:33:05.197961Z",
     "start_time": "2019-04-30T16:33:05.122560Z"
    },
    "colab": {},
    "colab_type": "code",
    "id": "GzxfmhWl8beq"
   },
   "outputs": [],
   "source": [
    "df_train['ppl_char_38']=(df_train['ppl_char_38']-df_train['ppl_char_38'].min())/(df_train['ppl_char_38'].max()-df_train['ppl_char_38'].min())\n"
   ]
  },
  {
   "cell_type": "code",
   "execution_count": 15,
   "metadata": {
    "ExecuteTime": {
     "end_time": "2019-04-30T16:39:00.152075Z",
     "start_time": "2019-04-30T16:39:00.144842Z"
    },
    "colab": {
     "base_uri": "https://localhost:8080/",
     "height": 34
    },
    "colab_type": "code",
    "id": "q4GmoKX39l8e",
    "outputId": "21aaa43a-a8ec-4a78-8d8f-d86ac60e0b5a"
   },
   "outputs": [
    {
     "name": "stdout",
     "output_type": "stream",
     "text": [
      "0          0.36\n",
      "1          0.36\n",
      "2          0.36\n",
      "3          0.36\n",
      "4          0.36\n",
      "5          0.36\n",
      "6          0.76\n",
      "7          0.76\n",
      "8          0.99\n",
      "9          0.99\n",
      "10         0.99\n",
      "11         0.99\n",
      "12         0.99\n",
      "13         0.99\n",
      "14         0.99\n",
      "15         0.99\n",
      "16         0.99\n",
      "17         0.99\n",
      "18         0.99\n",
      "19         0.99\n",
      "20         0.99\n",
      "21         0.99\n",
      "22         0.99\n",
      "23         0.99\n",
      "24         0.99\n",
      "25         0.99\n",
      "26         0.99\n",
      "27         0.99\n",
      "28         0.99\n",
      "29         0.99\n",
      "           ... \n",
      "2197261    0.95\n",
      "2197262    0.95\n",
      "2197263    0.95\n",
      "2197264    0.95\n",
      "2197265    0.95\n",
      "2197266    0.95\n",
      "2197267    0.95\n",
      "2197268    0.95\n",
      "2197269    0.95\n",
      "2197270    0.95\n",
      "2197271    0.95\n",
      "2197272    0.95\n",
      "2197273    0.95\n",
      "2197274    0.95\n",
      "2197275    0.95\n",
      "2197276    0.95\n",
      "2197277    0.95\n",
      "2197278    0.95\n",
      "2197279    0.95\n",
      "2197280    0.95\n",
      "2197281    0.95\n",
      "2197282    0.95\n",
      "2197283    0.95\n",
      "2197284    0.95\n",
      "2197285    0.95\n",
      "2197286    0.95\n",
      "2197287    0.95\n",
      "2197288    0.95\n",
      "2197289    0.95\n",
      "2197290    0.95\n",
      "Name: ppl_char_38, Length: 2197291, dtype: float64\n"
     ]
    }
   ],
   "source": [
    "# print(df_train['ppl_char_38'].max(), df_train['ppl_char_38'].min())\n",
    "print(df_train['ppl_char_38'])\n"
   ]
  },
  {
   "cell_type": "markdown",
   "metadata": {
    "ExecuteTime": {
     "end_time": "2019-02-20T00:09:27.422688Z",
     "start_time": "2019-02-20T00:09:27.409237Z"
    },
    "colab_type": "text",
    "id": "FNXb5Ee5-nkv"
   },
   "source": [
    "### Convert Bool column to 1/0"
   ]
  },
  {
   "cell_type": "code",
   "execution_count": 16,
   "metadata": {
    "ExecuteTime": {
     "end_time": "2019-04-30T16:39:29.954020Z",
     "start_time": "2019-04-30T16:39:27.585623Z"
    },
    "colab": {},
    "colab_type": "code",
    "id": "IywFqHlY-nkv"
   },
   "outputs": [],
   "source": [
    "to_replace_bool_col = ['ppl_char_10', 'ppl_char_11', 'ppl_char_12', 'ppl_char_13',\n",
    "        'ppl_char_14', 'ppl_char_15', 'ppl_char_16', 'ppl_char_17',\n",
    "        'ppl_char_18', 'ppl_char_19', 'ppl_char_20', 'ppl_char_21',\n",
    "        'ppl_char_22', 'ppl_char_23', 'ppl_char_24', 'ppl_char_25',\n",
    "        'ppl_char_26', 'ppl_char_27', 'ppl_char_28', 'ppl_char_29',\n",
    "        'ppl_char_30', 'ppl_char_31', 'ppl_char_32', 'ppl_char_33',\n",
    "        'ppl_char_34', 'ppl_char_35', 'ppl_char_36', 'ppl_char_37']\n",
    "\n",
    "df_train[to_replace_bool_col] = df_train[to_replace_bool_col].astype(int)\n",
    "# df_train.head()"
   ]
  },
  {
   "cell_type": "markdown",
   "metadata": {
    "colab_type": "text",
    "id": "b_cFukbcx5Hr"
   },
   "source": [
    "### Randomly choose 100,000 samples for training and 10,000 samples for validation"
   ]
  },
  {
   "cell_type": "code",
   "execution_count": 17,
   "metadata": {
    "ExecuteTime": {
     "end_time": "2019-04-30T16:39:48.508693Z",
     "start_time": "2019-04-30T16:39:33.066394Z"
    },
    "colab": {},
    "colab_type": "code",
    "id": "1RbSnwa5ykyq"
   },
   "outputs": [],
   "source": [
    "n_train=100000\n",
    "n_valid=10000\n",
    "\n",
    "frac=(n_train+n_valid)/len(df_train)\n",
    "df_random=df_train.sample(frac=frac,replace=False,random_state=1) # give random_state to get the same result every time\n",
    "\n",
    "to_convert_obj_col = ['activity_category', 'act_char_1',\n",
    "        'act_char_2', 'act_char_3', 'act_char_4', 'act_char_5', 'act_char_6',\n",
    "        'act_char_7', 'act_char_8', 'act_char_9', 'act_char_10', 'ppl_char_1',\n",
    "        'ppl_group_1', 'ppl_char_2', 'ppl_char_3', 'ppl_char_4', 'ppl_char_5',\n",
    "        'ppl_char_6', 'ppl_char_7', 'ppl_char_8', 'ppl_char_9']\n",
    "\n",
    "df_random_oh=pd.get_dummies(df_random,columns=to_convert_obj_col,sparse=True)\n",
    "\n",
    "df_train_random_oh=df_random_oh[0:n_train]\n",
    "df_valid_random_oh=df_random_oh[n_train:]"
   ]
  },
  {
   "cell_type": "code",
   "execution_count": 0,
   "metadata": {
    "colab": {},
    "colab_type": "code",
    "id": "YleFXPn6WoOA"
   },
   "outputs": [],
   "source": []
  },
  {
   "cell_type": "markdown",
   "metadata": {
    "colab_type": "text",
    "id": "aSXWlgDF-nky"
   },
   "source": [
    "### Convert Object column using one-hot encoding"
   ]
  },
  {
   "cell_type": "code",
   "execution_count": 18,
   "metadata": {
    "ExecuteTime": {
     "end_time": "2019-04-30T16:39:53.413831Z",
     "start_time": "2019-04-30T16:39:53.404244Z"
    },
    "colab": {
     "base_uri": "https://localhost:8080/",
     "height": 34
    },
    "colab_type": "code",
    "id": "mHZ8ydJwU7TV",
    "outputId": "03066bba-4cfd-4e25-9068-51d8427f3bac"
   },
   "outputs": [
    {
     "data": {
      "text/plain": [
       "(100000, 18565)"
      ]
     },
     "execution_count": 18,
     "metadata": {},
     "output_type": "execute_result"
    }
   ],
   "source": [
    "  df_train_random_oh.shape"
   ]
  },
  {
   "cell_type": "markdown",
   "metadata": {
    "colab_type": "text",
    "id": "vWqjb_PX9lbk"
   },
   "source": [
    "### Save train dataset and valid dataset as pkl file"
   ]
  },
  {
   "cell_type": "code",
   "execution_count": 19,
   "metadata": {
    "ExecuteTime": {
     "end_time": "2019-04-30T16:40:34.130653Z",
     "start_time": "2019-04-30T16:40:32.131969Z"
    },
    "colab": {},
    "colab_type": "code",
    "id": "-sHbF8Kq9vAA"
   },
   "outputs": [],
   "source": [
    "# df_train_random_oh.to_pickle('/content/gdrive/My Drive/colab/redhat/dataset/train_one_hot_100000_new.pkl')\n",
    "# df_valid_random_oh.to_pickle('/content/gdrive/My Drive/colab/redhat/dataset/valid_one_hot_10000_new.pkl')\n",
    "df_train_random_oh.to_pickle('../data/train_one_hot_100000_new1.pkl')\n",
    "df_valid_random_oh.to_pickle('../data/valid_one_hot_10000_new1.pkl')"
   ]
  },
  {
   "cell_type": "markdown",
   "metadata": {
    "colab_type": "text",
    "id": "48G9QxXY9jDC"
   },
   "source": []
  }
 ],
 "metadata": {
  "accelerator": "GPU",
  "colab": {
   "name": "Copy of Data_Conversion.ipynb",
   "provenance": [],
   "version": "0.3.2"
  },
  "kernelspec": {
   "display_name": "Python 3",
   "language": "python",
   "name": "python3"
  },
  "language_info": {
   "codemirror_mode": {
    "name": "ipython",
    "version": 3
   },
   "file_extension": ".py",
   "mimetype": "text/x-python",
   "name": "python",
   "nbconvert_exporter": "python",
   "pygments_lexer": "ipython3",
   "version": "3.7.0"
  },
  "toc": {
   "base_numbering": 1,
   "nav_menu": {},
   "number_sections": true,
   "sideBar": true,
   "skip_h1_title": false,
   "title_cell": "Table of Contents",
   "title_sidebar": "Contents",
   "toc_cell": false,
   "toc_position": {},
   "toc_section_display": true,
   "toc_window_display": false
  },
  "varInspector": {
   "cols": {
    "lenName": 16,
    "lenType": 16,
    "lenVar": 40
   },
   "kernels_config": {
    "python": {
     "delete_cmd_postfix": "",
     "delete_cmd_prefix": "del ",
     "library": "var_list.py",
     "varRefreshCmd": "print(var_dic_list())"
    },
    "r": {
     "delete_cmd_postfix": ") ",
     "delete_cmd_prefix": "rm(",
     "library": "var_list.r",
     "varRefreshCmd": "cat(var_dic_list()) "
    }
   },
   "types_to_exclude": [
    "module",
    "function",
    "builtin_function_or_method",
    "instance",
    "_Feature"
   ],
   "window_display": false
  }
 },
 "nbformat": 4,
 "nbformat_minor": 1
}

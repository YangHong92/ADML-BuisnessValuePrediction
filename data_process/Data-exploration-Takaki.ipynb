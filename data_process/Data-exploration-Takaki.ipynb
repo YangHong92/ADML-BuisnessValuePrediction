{
 "cells": [
  {
   "cell_type": "code",
   "execution_count": 4,
   "metadata": {
    "ExecuteTime": {
     "end_time": "2019-02-14T15:39:29.306444Z",
     "start_time": "2019-02-14T15:39:13.046810Z"
    }
   },
   "outputs": [
    {
     "name": "stdout",
     "output_type": "stream",
     "text": [
      "type 2    904683\n",
      "type 5    490710\n",
      "type 3    429408\n",
      "type 4    207465\n",
      "type 1    157615\n",
      "type 6      4253\n",
      "type 7      3157\n",
      "Name: activity_category, dtype: int64\n"
     ]
    }
   ],
   "source": [
    "import numpy as np\n",
    "import pandas as pd\n",
    "\n",
    "#%%\n",
    "# load all data\n",
    "df_people=pd.read_csv('../data/people.csv')\n",
    "df_act_train=pd.read_csv('../data/act_train.csv')\n",
    "df_act_test=pd.read_csv('../data/act_test.csv')\n",
    "\n",
    "# rename key name to avoid depulication\n",
    "for i in range(1,39):\n",
    "    keyname_old='char_'+str(i)\n",
    "    keyname_new='p'+keyname_old\n",
    "    df_people=df_people.rename(columns={keyname_old: keyname_new})\n",
    "\n",
    "# merge 2 dataset\n",
    "df_merge_train=pd.merge(df_people,df_act_train,on='people_id',how='right') # remain all values in df_act_train (right)\n",
    "\n",
    "# %%\n",
    "# count number of data type\n",
    "type_num_of_activity_category=df_act_train['activity_category'].value_counts() # 7 types (type1 - type7)\n",
    "print(type_num_of_activity_category)\n",
    "\n",
    "\n",
    "#%%\n",
    "# for reducing calculation for prototyping, only use 10000 samples\n",
    "df_merge_train_10000samples=df_merge_train[0:10000]\n",
    "\n",
    "# delete char_1 to char_9 because it seems complex right now.\n",
    "for i in range(1,10):\n",
    "    deleted_key='char_'+str(i)\n",
    "    del df_merge_train_10000samples[deleted_key]\n",
    "\n",
    "# get_one_hot_expression\n",
    "df_one_hot_simple=pd.get_dummies(df_merge_train_10000samples,columns=['activity_category'])\n",
    "\n",
    "df_one_hot_simple.to_csv('../data/result/dataset_test.csv')\n"
   ]
  },
  {
   "cell_type": "code",
   "execution_count": null,
   "metadata": {},
   "outputs": [],
   "source": []
  }
 ],
 "metadata": {
  "kernelspec": {
   "display_name": "Python 3",
   "language": "python",
   "name": "python3"
  },
  "language_info": {
   "codemirror_mode": {
    "name": "ipython",
    "version": 3
   },
   "file_extension": ".py",
   "mimetype": "text/x-python",
   "name": "python",
   "nbconvert_exporter": "python",
   "pygments_lexer": "ipython3",
   "version": "3.7.0"
  },
  "toc": {
   "base_numbering": 1,
   "nav_menu": {},
   "number_sections": true,
   "sideBar": true,
   "skip_h1_title": false,
   "title_cell": "Table of Contents",
   "title_sidebar": "Contents",
   "toc_cell": false,
   "toc_position": {},
   "toc_section_display": true,
   "toc_window_display": false
  },
  "varInspector": {
   "cols": {
    "lenName": 16,
    "lenType": 16,
    "lenVar": 40
   },
   "kernels_config": {
    "python": {
     "delete_cmd_postfix": "",
     "delete_cmd_prefix": "del ",
     "library": "var_list.py",
     "varRefreshCmd": "print(var_dic_list())"
    },
    "r": {
     "delete_cmd_postfix": ") ",
     "delete_cmd_prefix": "rm(",
     "library": "var_list.r",
     "varRefreshCmd": "cat(var_dic_list()) "
    }
   },
   "types_to_exclude": [
    "module",
    "function",
    "builtin_function_or_method",
    "instance",
    "_Feature"
   ],
   "window_display": false
  }
 },
 "nbformat": 4,
 "nbformat_minor": 2
}

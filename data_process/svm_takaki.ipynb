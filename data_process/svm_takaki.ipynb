{
  "nbformat": 4,
  "nbformat_minor": 0,
  "metadata": {
    "colab": {
      "name": "svm_takaki.ipynb",
      "version": "0.3.2",
      "provenance": [],
      "collapsed_sections": [],
      "include_colab_link": true
    },
    "kernelspec": {
      "name": "python3",
      "display_name": "Python 3"
    }
  },
  "cells": [
    {
      "cell_type": "markdown",
      "metadata": {
        "id": "view-in-github",
        "colab_type": "text"
      },
      "source": [
        "<a href=\"https://colab.research.google.com/github/YangHong92/ADML-RedHat/blob/colab_test/data_process/svm_takaki.ipynb\" target=\"_parent\"><img src=\"https://colab.research.google.com/assets/colab-badge.svg\" alt=\"Open In Colab\"/></a>"
      ]
    },
    {
      "metadata": {
        "id": "WmrhlDdeaA--",
        "colab_type": "code",
        "outputId": "09829d37-9d41-4c57-9920-1447a4a372ad",
        "colab": {
          "base_uri": "https://localhost:8080/",
          "height": 122
        }
      },
      "cell_type": "code",
      "source": [
        "import numpy as np # linear algebra\n",
        "import pandas as pd # data processing, CSV file I/O\n",
        "import matplotlib.pyplot as plt\n",
        "%matplotlib inline\n",
        "from google.colab import drive\n",
        "\n",
        "from sklearn.decomposition import PCA\n",
        "from sklearn.decomposition import IncrementalPCA\n",
        "\n",
        "drive.mount('/content/gdrive') # your google drive will be mounted as '/content/gdrive/My Drive/*'\n",
        "df_train=pd.read_pickle('/content/gdrive/My Drive/colab/redhat/dataset/train_one_hot_100000.pkl')\n",
        "df_valid=pd.read_pickle('/content/gdrive/My Drive/colab/redhat/dataset/valid_one_hot_10000.pkl')"
      ],
      "execution_count": 3,
      "outputs": [
        {
          "output_type": "stream",
          "text": [
            "Go to this URL in a browser: https://accounts.google.com/o/oauth2/auth?client_id=947318989803-6bn6qk8qdgf4n4g3pfee6491hc0brc4i.apps.googleusercontent.com&redirect_uri=urn%3Aietf%3Awg%3Aoauth%3A2.0%3Aoob&scope=email%20https%3A%2F%2Fwww.googleapis.com%2Fauth%2Fdocs.test%20https%3A%2F%2Fwww.googleapis.com%2Fauth%2Fdrive%20https%3A%2F%2Fwww.googleapis.com%2Fauth%2Fdrive.photos.readonly%20https%3A%2F%2Fwww.googleapis.com%2Fauth%2Fpeopleapi.readonly&response_type=code\n",
            "\n",
            "Enter your authorization code:\n",
            "··········\n",
            "Mounted at /content/gdrive\n"
          ],
          "name": "stdout"
        }
      ]
    },
    {
      "metadata": {
        "id": "FWNKmljra95d",
        "colab_type": "text"
      },
      "cell_type": "markdown",
      "source": [
        ""
      ]
    },
    {
      "metadata": {
        "id": "l_x5mlbRa8ZR",
        "colab_type": "code",
        "colab": {}
      },
      "cell_type": "code",
      "source": [
        "df_train_label=df_train['outcome'].copy()\n",
        "df_train_input=df_train.drop(columns=['people_id','activity_id','outcome'])\n",
        "\n",
        "df_valid_label=df_valid['outcome'].copy()\n",
        "df_valid_input=df_valid.drop(columns=['people_id','activity_id','outcome'])"
      ],
      "execution_count": 0,
      "outputs": []
    },
    {
      "metadata": {
        "id": "4f5WmO3yMasW",
        "colab_type": "text"
      },
      "cell_type": "markdown",
      "source": [
        "## Dimension Reduction\n",
        "To reduce dimension, this code simply removes columns with less number of '1'"
      ]
    },
    {
      "metadata": {
        "id": "uHxXTWvV3Lgc",
        "colab_type": "code",
        "outputId": "e4e56748-4faa-4d06-91bd-61d200009af3",
        "colab": {
          "base_uri": "https://localhost:8080/",
          "height": 51
        }
      },
      "cell_type": "code",
      "source": [
        "# dimension reduction\n",
        "# the dimensions that only contain small number of '1' are dropped\n",
        "\n",
        "threshold=0.001 # 0.1%\n",
        "\n",
        "keys=list(df_train_input)\n",
        "keys_dropped=[]\n",
        "\n",
        "for key in keys:\n",
        "  tmp_sum=df_train_input[key].sum()\n",
        "  tmp_ratio=tmp_sum/len(df_train_input)\n",
        "#   print(key,tmp_ratio)\n",
        "  \n",
        "  if tmp_ratio < threshold:\n",
        "    keys_dropped.append(key)\n",
        "    \n",
        "df_train_input_reduced=df_train_input.drop(columns=keys_dropped)\n",
        "df_valid_input_reduced=df_valid_input.drop(columns=keys_dropped)\n",
        "\n",
        "print('The columns that contain less than ' , threshold*100 ,'% of 1 are removed.')\n",
        "print(len(keys_dropped),'columns are removed from original',len(keys),'columns.')"
      ],
      "execution_count": 5,
      "outputs": [
        {
          "output_type": "stream",
          "text": [
            "The columns that contain less than  0.1 % of 1 are removed.\n",
            "18253 columns are removed from original 18562 columns.\n"
          ],
          "name": "stdout"
        }
      ]
    },
    {
      "metadata": {
        "id": "MZ6IWTHXM_TI",
        "colab_type": "text"
      },
      "cell_type": "markdown",
      "source": [
        "## Linear SVC"
      ]
    },
    {
      "metadata": {
        "id": "yls1qvE5M-6L",
        "colab_type": "code",
        "outputId": "682eb822-bc80-4a2a-9476-907e1445a487",
        "colab": {
          "base_uri": "https://localhost:8080/",
          "height": 105
        }
      },
      "cell_type": "code",
      "source": [
        "from sklearn.svm import LinearSVC\n",
        "from sklearn.metrics import accuracy_score\n",
        "\n",
        "model=LinearSVC(C=0.03125,loss='squared_hinge',penalty='l2',verbose=1)\n",
        "model.fit(np.array(df_train_input_reduced.values),np.array(df_train_label.values))\n",
        "\n",
        "train_predict=model.predict(np.array(df_train_input_reduced.values))\n",
        "train_score=accuracy_score(train_predict,np.array(df_train_label.values))\n",
        "print('train score is ',train_score)\n",
        "\n",
        "valid_predict=model.predict(np.array(df_valid_input_reduced.values))\n",
        "valid_score=accuracy_score(valid_predict,np.array(df_valid_label.values))\n",
        "print('valid score is ',valid_score)"
      ],
      "execution_count": 6,
      "outputs": [
        {
          "output_type": "stream",
          "text": [
            "[LibLinear]"
          ],
          "name": "stdout"
        },
        {
          "output_type": "stream",
          "text": [
            "/usr/local/lib/python3.6/dist-packages/sklearn/svm/base.py:931: ConvergenceWarning: Liblinear failed to converge, increase the number of iterations.\n",
            "  \"the number of iterations.\", ConvergenceWarning)\n"
          ],
          "name": "stderr"
        },
        {
          "output_type": "stream",
          "text": [
            "train score is  0.8663\n",
            "valid score is  0.8678\n"
          ],
          "name": "stdout"
        }
      ]
    },
    {
      "metadata": {
        "id": "d7n-7G1JT71G",
        "colab_type": "text"
      },
      "cell_type": "markdown",
      "source": [
        "[LibLinear]/usr/local/lib/python3.6/dist-packages/sklearn/svm/base.py:931: ConvergenceWarning: Liblinear failed to converge, increase the number of iterations.\n",
        "  \"the number of iterations.\", ConvergenceWarning)\n",
        "train score is  0.8663\n",
        "valid score is  0.8678"
      ]
    },
    {
      "metadata": {
        "colab_type": "code",
        "id": "C_bFyRbdTycE",
        "colab": {
          "base_uri": "https://localhost:8080/",
          "height": 34
        },
        "outputId": "b6a50342-8b59-487a-d471-7a3c2d8ed6b5"
      },
      "cell_type": "code",
      "source": [
        "from sklearn.svm import SVC\n",
        "from sklearn.metrics import accuracy_score\n",
        "\n",
        "gamma_auto=1.0/(df_train_input_reduced.values.shape[1]*df_train_input_reduced.values.var())\n",
        "model=SVC(C=10,gamma=gamma_auto*10,verbose=1)\n",
        "model.fit(np.array(df_train_input_reduced.values),np.array(df_train_label.values))\n",
        "\n",
        "train_predict=model.predict(np.array(df_train_input_reduced.values))\n",
        "train_score=accuracy_score(train_predict,np.array(df_train_label.values))\n",
        "print('train score is ',train_score)\n",
        "\n",
        "valid_predict=model.predict(np.array(df_valid_input_reduced.values))\n",
        "valid_score=accuracy_score(valid_predict,np.array(df_valid_label.values))\n",
        "print('valid score is ',valid_score)"
      ],
      "execution_count": 0,
      "outputs": [
        {
          "output_type": "stream",
          "text": [
            "[LibSVM]"
          ],
          "name": "stdout"
        }
      ]
    },
    {
      "metadata": {
        "id": "vydI-MQWUg-A",
        "colab_type": "text"
      },
      "cell_type": "markdown",
      "source": [
        "## Source code for Grid Search"
      ]
    },
    {
      "metadata": {
        "id": "FKbznC7tULfm",
        "colab_type": "code",
        "colab": {}
      },
      "cell_type": "code",
      "source": [
        "linear svm\n",
        "model=LinearSVC()\n",
        "c_cand=np.logspace(-5,15,20,base=2)\n",
        "parameters = {'penalty':('l1', 'l2'), 'loss': ('hinge','squared_hinge' ),'C':c_cand}\n",
        "\n",
        "clf=GridSearchCV(model,parameters,cv=3,verbose=0,n_jobs=40,error_score=0.0)\n",
        "clf.fit(np.array(df_train_input_reduced.values[0:num_sample_to_use]),np.array(df_train_label.values[0:num_sample_to_use]))\n",
        "print('linear svm result')\n",
        "print(clf.cv_results_)\n",
        "print('best params:',clf.best_params_)\n",
        "print('best score:',clf.best_score_)\n",
        "\n",
        "\n",
        "gamma_auto=1.0/(df_train_input_reduced.values.shape[1]*df_train_input_reduced.values[0:num_sample_to_use].var())\n",
        "# gaussian kernel\n",
        "parameters = {'C':[0.1,0.3,1,3, 10],'gamma':[gamma_auto*0.1,gamma_auto*0.3,gamma_auto*1,gamma_auto*3, gamma_auto*10]}\n",
        "model=SVC(kernel='rbf',verbose=0)\n",
        "clf=GridSearchCV(model,parameters,cv=3,verbose=1,n_jobs=64,error_score=0.0)\n",
        "clf.fit(np.array(df_train_input_reduced.values[0:num_sample_to_use]),np.array(df_train_label.values[0:num_sample_to_use]))\n",
        "\n",
        "\n",
        "print('rbf svm result')\n",
        "print(clf.cv_results_)\n",
        "print('best params:',clf.best_params_)\n",
        "print('best score:',clf.best_score_)\n"
      ],
      "execution_count": 0,
      "outputs": []
    }
  ]
}
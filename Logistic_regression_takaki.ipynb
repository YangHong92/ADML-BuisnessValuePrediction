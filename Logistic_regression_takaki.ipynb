{
  "nbformat": 4,
  "nbformat_minor": 0,
  "metadata": {
    "colab": {
      "name": "Logistic_regression_takaki.ipynb",
      "version": "0.3.2",
      "provenance": [],
      "include_colab_link": true
    },
    "kernelspec": {
      "name": "python3",
      "display_name": "Python 3"
    }
  },
  "cells": [
    {
      "cell_type": "markdown",
      "metadata": {
        "id": "view-in-github",
        "colab_type": "text"
      },
      "source": [
        "<a href=\"https://colab.research.google.com/github/YangHong92/ADML-RedHat/blob/colab_test/Logistic_regression_takaki.ipynb\" target=\"_parent\"><img src=\"https://colab.research.google.com/assets/colab-badge.svg\" alt=\"Open In Colab\"/></a>"
      ]
    },
    {
      "metadata": {
        "id": "WmrhlDdeaA--",
        "colab_type": "code",
        "outputId": "747750bf-1a67-4858-c11e-715b57df0704",
        "colab": {
          "base_uri": "https://localhost:8080/",
          "height": 35
        }
      },
      "cell_type": "code",
      "source": [
        "import numpy as np # linear algebra\n",
        "import pandas as pd # data processing, CSV file I/O\n",
        "import matplotlib.pyplot as plt\n",
        "%matplotlib inline\n",
        "from google.colab import drive\n",
        "\n",
        "from sklearn.decomposition import PCA\n",
        "from sklearn.decomposition import IncrementalPCA\n",
        "from sklearn.linear_model import LogisticRegression\n",
        "from sklearn.metrics import accuracy_score\n",
        "\n",
        "drive.mount('/content/gdrive') # your google drive will be mounted as '/content/gdrive/My Drive/*'\n",
        "df_train=pd.read_pickle('/content/gdrive/My Drive/colab/redhat/dataset/train_one_hot_100000.pkl')\n",
        "df_valid=pd.read_pickle('/content/gdrive/My Drive/colab/redhat/dataset/valid_one_hot_10000.pkl')"
      ],
      "execution_count": 51,
      "outputs": [
        {
          "output_type": "stream",
          "text": [
            "Drive already mounted at /content/gdrive; to attempt to forcibly remount, call drive.mount(\"/content/gdrive\", force_remount=True).\n"
          ],
          "name": "stdout"
        }
      ]
    },
    {
      "metadata": {
        "id": "FWNKmljra95d",
        "colab_type": "text"
      },
      "cell_type": "markdown",
      "source": [
        "devide input and label"
      ]
    },
    {
      "metadata": {
        "id": "l_x5mlbRa8ZR",
        "colab_type": "code",
        "colab": {}
      },
      "cell_type": "code",
      "source": [
        "df_train_label=df_train['outcome'].copy()\n",
        "df_train_input=df_train.drop(columns=['people_id','activity_id','outcome'])\n",
        "\n",
        "df_valid_label=df_valid['outcome'].copy()\n",
        "df_valid_input=df_valid.drop(columns=['people_id','activity_id','outcome'])"
      ],
      "execution_count": 0,
      "outputs": []
    },
    {
      "metadata": {
        "id": "uHxXTWvV3Lgc",
        "colab_type": "code",
        "colab": {
          "base_uri": "https://localhost:8080/",
          "height": 54
        },
        "outputId": "f31cda01-2e10-4450-dd12-d5a871cddace"
      },
      "cell_type": "code",
      "source": [
        "# dimension reduction\n",
        "# the dimensions that only contain small number of '1' are dropped\n",
        "\n",
        "\n",
        "threshold=0.001 # 0.1%\n",
        "\n",
        "keys=list(df_train_input)\n",
        "keys_dropped=[]\n",
        "\n",
        "for key in keys:\n",
        "  tmp_sum=df_train_input[key].sum()\n",
        "  tmp_ratio=tmp_sum/len(df_train_input)\n",
        "#   print(key,tmp_ratio)\n",
        "  \n",
        "  if tmp_ratio < threshold:\n",
        "    keys_dropped.append(key)\n",
        "    \n",
        "df_train_input_reduced=df_train_input.drop(columns=keys_dropped)\n",
        "df_valid_input_reduced=df_valid_input.drop(columns=keys_dropped)\n",
        "\n",
        "print('The columns that contain less than ' , threshold*100 ,'% of 1 are removed.')\n",
        "print(len(keys_dropped),'columns are removed from original',len(keys),'columns.')"
      ],
      "execution_count": 53,
      "outputs": [
        {
          "output_type": "stream",
          "text": [
            "The columns that contain less than  0.1 % of 1 are removed.\n",
            "18253 columns are removed from original 18562 columns.\n"
          ],
          "name": "stdout"
        }
      ]
    },
    {
      "metadata": {
        "id": "VGJBXKG34x6f",
        "colab_type": "code",
        "colab": {
          "base_uri": "https://localhost:8080/",
          "height": 126
        },
        "outputId": "beff7d68-b27f-4c91-920b-cad2dbc2cc47"
      },
      "cell_type": "code",
      "source": [
        "\n",
        "log_reg=LogisticRegression(random_state=0, solver='lbfgs')\n",
        "log_reg.fit(np.array(df_train_input_reduced.values),np.array(df_train_label.values))"
      ],
      "execution_count": 46,
      "outputs": [
        {
          "output_type": "stream",
          "text": [
            "/usr/local/lib/python3.6/dist-packages/sklearn/linear_model/logistic.py:758: ConvergenceWarning: lbfgs failed to converge. Increase the number of iterations.\n",
            "  \"of iterations.\", ConvergenceWarning)\n"
          ],
          "name": "stderr"
        },
        {
          "output_type": "execute_result",
          "data": {
            "text/plain": [
              "LogisticRegression(C=1.0, class_weight=None, dual=False, fit_intercept=True,\n",
              "          intercept_scaling=1, max_iter=100, multi_class='warn',\n",
              "          n_jobs=None, penalty='l2', random_state=0, solver='lbfgs',\n",
              "          tol=0.0001, verbose=0, warm_start=False)"
            ]
          },
          "metadata": {
            "tags": []
          },
          "execution_count": 46
        }
      ]
    },
    {
      "metadata": {
        "id": "rrIGns29HhfR",
        "colab_type": "code",
        "colab": {
          "base_uri": "https://localhost:8080/",
          "height": 35
        },
        "outputId": "dd9f4d11-16f6-4ce9-f56d-3a342de34592"
      },
      "cell_type": "code",
      "source": [
        "train_predict=log_reg.predict(np.array(df_train_input_reduced.values))\n",
        "train_score=accuracy_score(train_predict,np.array(df_train_label.values))\n",
        "print('train score is ',train_score)"
      ],
      "execution_count": 55,
      "outputs": [
        {
          "output_type": "stream",
          "text": [
            "train score is  0.86094\n"
          ],
          "name": "stdout"
        }
      ]
    },
    {
      "metadata": {
        "id": "2byiSm1aH36j",
        "colab_type": "code",
        "colab": {
          "base_uri": "https://localhost:8080/",
          "height": 35
        },
        "outputId": "cadf0898-efe7-4c5c-8cd0-8d10123a39dc"
      },
      "cell_type": "code",
      "source": [
        "valid_predict=log_reg.predict(np.array(df_valid_input_reduced.values))\n",
        "valid_score=accuracy_score(valid_predict,np.array(df_valid_label.values))\n",
        "print('valid score is ',valid_score)"
      ],
      "execution_count": 57,
      "outputs": [
        {
          "output_type": "stream",
          "text": [
            "valid score is  0.8667\n"
          ],
          "name": "stdout"
        }
      ]
    }
  ]
}
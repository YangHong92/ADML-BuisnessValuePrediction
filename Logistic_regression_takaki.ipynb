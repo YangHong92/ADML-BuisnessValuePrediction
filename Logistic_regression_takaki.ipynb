{
  "nbformat": 4,
  "nbformat_minor": 0,
  "metadata": {
    "colab": {
      "name": "Logistic_regression_takaki.ipynb",
      "version": "0.3.2",
      "provenance": [],
      "collapsed_sections": [],
      "include_colab_link": true
    },
    "kernelspec": {
      "name": "python3",
      "display_name": "Python 3"
    }
  },
  "cells": [
    {
      "cell_type": "markdown",
      "metadata": {
        "id": "view-in-github",
        "colab_type": "text"
      },
      "source": [
        "<a href=\"https://colab.research.google.com/github/YangHong92/ADML-RedHat/blob/colab_test/Logistic_regression_takaki.ipynb\" target=\"_parent\"><img src=\"https://colab.research.google.com/assets/colab-badge.svg\" alt=\"Open In Colab\"/></a>"
      ]
    },
    {
      "metadata": {
        "id": "WmrhlDdeaA--",
        "colab_type": "code",
        "outputId": "791fa535-4107-44ef-f7d3-b2216653e1e3",
        "colab": {
          "base_uri": "https://localhost:8080/",
          "height": 35
        }
      },
      "cell_type": "code",
      "source": [
        "import numpy as np # linear algebra\n",
        "import pandas as pd # data processing, CSV file I/O\n",
        "import matplotlib.pyplot as plt\n",
        "%matplotlib inline\n",
        "from google.colab import drive\n",
        "\n",
        "from sklearn.decomposition import PCA\n",
        "from sklearn.decomposition import IncrementalPCA\n",
        "\n",
        "drive.mount('/content/gdrive') # your google drive will be mounted as '/content/gdrive/My Drive/*'\n",
        "df_train=pd.read_pickle('/content/gdrive/My Drive/colab/redhat/dataset/train_one_hot_100000.pkl')\n",
        "df_valid=pd.read_pickle('/content/gdrive/My Drive/colab/redhat/dataset/valid_one_hot_10000.pkl')"
      ],
      "execution_count": 1,
      "outputs": [
        {
          "output_type": "stream",
          "text": [
            "Drive already mounted at /content/gdrive; to attempt to forcibly remount, call drive.mount(\"/content/gdrive\", force_remount=True).\n"
          ],
          "name": "stdout"
        }
      ]
    },
    {
      "metadata": {
        "id": "FWNKmljra95d",
        "colab_type": "text"
      },
      "cell_type": "markdown",
      "source": [
        ""
      ]
    },
    {
      "metadata": {
        "id": "l_x5mlbRa8ZR",
        "colab_type": "code",
        "colab": {}
      },
      "cell_type": "code",
      "source": [
        "df_train_label=df_train['outcome'].copy()\n",
        "df_train_input=df_train.drop(columns=['people_id','activity_id','outcome'])\n",
        "\n",
        "df_valid_label=df_valid['outcome'].copy()\n",
        "df_valid_input=df_valid.drop(columns=['people_id','activity_id','outcome'])"
      ],
      "execution_count": 0,
      "outputs": []
    },
    {
      "metadata": {
        "id": "4f5WmO3yMasW",
        "colab_type": "text"
      },
      "cell_type": "markdown",
      "source": [
        "## Dimension Reduction\n",
        "To reduce dimension, this code simply removes columns with less number of '1'"
      ]
    },
    {
      "metadata": {
        "id": "uHxXTWvV3Lgc",
        "colab_type": "code",
        "colab": {
          "base_uri": "https://localhost:8080/",
          "height": 54
        },
        "outputId": "e4994ab3-4948-47d2-efdc-45403153138c"
      },
      "cell_type": "code",
      "source": [
        "# dimension reduction\n",
        "# the dimensions that only contain small number of '1' are dropped\n",
        "\n",
        "threshold=0.001 # 0.1%\n",
        "\n",
        "keys=list(df_train_input)\n",
        "keys_dropped=[]\n",
        "\n",
        "for key in keys:\n",
        "  tmp_sum=df_train_input[key].sum()\n",
        "  tmp_ratio=tmp_sum/len(df_train_input)\n",
        "#   print(key,tmp_ratio)\n",
        "  \n",
        "  if tmp_ratio < threshold:\n",
        "    keys_dropped.append(key)\n",
        "    \n",
        "df_train_input_reduced=df_train_input.drop(columns=keys_dropped)\n",
        "df_valid_input_reduced=df_valid_input.drop(columns=keys_dropped)\n",
        "\n",
        "print('The columns that contain less than ' , threshold*100 ,'% of 1 are removed.')\n",
        "print(len(keys_dropped),'columns are removed from original',len(keys),'columns.')"
      ],
      "execution_count": 3,
      "outputs": [
        {
          "output_type": "stream",
          "text": [
            "The columns that contain less than  0.1 % of 1 are removed.\n",
            "18253 columns are removed from original 18562 columns.\n"
          ],
          "name": "stdout"
        }
      ]
    },
    {
      "metadata": {
        "id": "3og8y2gZMuWc",
        "colab_type": "text"
      },
      "cell_type": "markdown",
      "source": [
        "## Simplest Logistic Regression"
      ]
    },
    {
      "metadata": {
        "id": "VGJBXKG34x6f",
        "colab_type": "code",
        "colab": {
          "base_uri": "https://localhost:8080/",
          "height": 126
        },
        "outputId": "23da37c8-fe53-4b18-bbfa-ac9695c90f29"
      },
      "cell_type": "code",
      "source": [
        "from sklearn.linear_model import LogisticRegression\n",
        "from sklearn.metrics import accuracy_score\n",
        "\n",
        "model=LogisticRegression(random_state=0, solver='lbfgs',verbose=True)\n",
        "model.fit(np.array(df_train_input_reduced.values),np.array(df_train_label.values))\n",
        "\n",
        "train_predict=model.predict(np.array(df_train_input_reduced.values))\n",
        "train_score=accuracy_score(train_predict,np.array(df_train_label.values))\n",
        "print('train score is ',train_score)\n",
        "\n",
        "valid_predict=model.predict(np.array(df_valid_input_reduced.values))\n",
        "valid_score=accuracy_score(valid_predict,np.array(df_valid_label.values))\n",
        "print('valid score is ',valid_score)"
      ],
      "execution_count": 4,
      "outputs": [
        {
          "output_type": "stream",
          "text": [
            "[Parallel(n_jobs=1)]: Using backend SequentialBackend with 1 concurrent workers.\n",
            "/usr/local/lib/python3.6/dist-packages/sklearn/linear_model/logistic.py:758: ConvergenceWarning: lbfgs failed to converge. Increase the number of iterations.\n",
            "  \"of iterations.\", ConvergenceWarning)\n",
            "[Parallel(n_jobs=1)]: Done   1 out of   1 | elapsed:    7.5s finished\n"
          ],
          "name": "stderr"
        },
        {
          "output_type": "stream",
          "text": [
            "train score is  0.86094\n",
            "valid score is  0.8667\n"
          ],
          "name": "stdout"
        }
      ]
    },
    {
      "metadata": {
        "id": "MZ6IWTHXM_TI",
        "colab_type": "text"
      },
      "cell_type": "markdown",
      "source": [
        "## Simplest SVM"
      ]
    },
    {
      "metadata": {
        "id": "yls1qvE5M-6L",
        "colab_type": "code",
        "colab": {
          "base_uri": "https://localhost:8080/",
          "height": 35
        },
        "outputId": "471cecf3-8aa4-4961-9c25-8e4a66183b87"
      },
      "cell_type": "code",
      "source": [
        "from sklearn.svm import SVC\n",
        "from sklearn.metrics import accuracy_score\n",
        "\n",
        "model=SVC(gamma='auto',verbose=True)\n",
        "model.fit(np.array(df_train_input_reduced.values[0:10000]),np.array(df_train_label.values[0:10000]))\n",
        "\n",
        "train_predict=model.predict(np.array(df_train_input_reduced.values))\n",
        "train_score=accuracy_score(train_predict,np.array(df_train_label.values))\n",
        "print('train score is ',train_score)\n",
        "\n",
        "valid_predict=model.predict(np.array(df_valid_input_reduced.values))\n",
        "valid_score=accuracy_score(valid_predict,np.array(df_valid_label.values))\n",
        "print('valid score is ',valid_score)"
      ],
      "execution_count": 0,
      "outputs": [
        {
          "output_type": "stream",
          "text": [
            "[LibSVM]"
          ],
          "name": "stdout"
        }
      ]
    }
  ]
}